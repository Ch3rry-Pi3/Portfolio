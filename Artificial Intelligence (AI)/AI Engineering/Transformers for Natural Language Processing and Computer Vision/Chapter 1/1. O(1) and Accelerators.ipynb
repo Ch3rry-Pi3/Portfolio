{
  "cells": [
    {
      "cell_type": "markdown",
      "metadata": {
        "id": "xhcmKynM7n3n"
      },
      "source": [
        "# Transformers are hardware-driven Architectures\n",
        "\n",
        "copyright 2023-2024, Denis Rothman\n",
        "\n",
        "Transformers are hardware and data-driven architectures. This notebooks illustrates the hardware-driven perspective.\n",
        "\n",
        "This notebook illlustrates the complexity for Self-attention and reccurent layers. The functions are not the actual algorithms of Transformers and RNNs. They simply show how the complexity of the layers varies with a CPU, a GPU, and a TPU. **Run the notebook cell by cell to make sure to choose the right type of processor. If you don't have access to a GPU or a TPU, you can read the notebook.**\n",
        "\n",
        "Self-attention layers benefit from matrix multiplications whereas reccurent layers are mostly sequential.\n",
        "\n",
        "The notebook is divided into 3 sections: CPU, GPU, and TPU.\n",
        "\n",
        "**MARCH 28,2025 code update**: GPUs and TPUs are not always avaialble in the the free version of Google Colab.   \n",
        "The *GPU* section The code will check if a GPU has been selected if available and give a clear message if not.   \n",
        "The *TPU information* cell has now been updated. The code will check if the COLAB_TPU_ADDR environment variable is selected if available before trying to use it and give a clear message if it's not.\n",
        "\n"
      ]
    },
    {
      "cell_type": "markdown",
      "metadata": {
        "id": "vfsThqg4Inu6"
      },
      "source": [
        "Reference for complexity: [Attention is All You Need, Vaswani et al.(2017)](https://arxiv.org/abs/1706.03762), page 6:\n",
        "\n",
        "![image.png](data:image/png;base64,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)\n",
        "\n",
        "\n",
        "\n"
      ]
    },
    {
      "cell_type": "markdown",
      "metadata": {
        "id": "FXmoFIDVItMR"
      },
      "source": [
        "# CPU"
      ]
    },
    {
      "cell_type": "code",
      "execution_count": 1,
      "metadata": {
        "colab": {
          "base_uri": "https://localhost:8080/"
        },
        "id": "ufJkoPHU2dz8",
        "outputId": "784f7305-9aae-48c9-b7aa-d4b527161bfc"
      },
      "outputs": [
        {
          "output_type": "stream",
          "name": "stdout",
          "text": [
            "Self-attention computation time: 0.4366953372955322 seconds\n",
            "Recurrent layer computation time: 103.40037226676941 seconds\n",
            "The percentage of 'computational time for attention' in the sum of 'attention' and 'recurrent' is 0.42%\n"
          ]
        }
      ],
      "source": [
        "#Computational times of complexity per layer\n",
        "# Comparing the computational time between:\n",
        "# self attention = O(n^2 * d)\n",
        "#and\n",
        "# recurrent = O(n * d^2)\n",
        "import numpy as np\n",
        "import time\n",
        "\n",
        "# define the sequence length and representation dimensionality\n",
        "n = 512\n",
        "d = 512\n",
        "\n",
        "# define the inputs\n",
        "input_seq = np.random.rand(n, d)\n",
        "\n",
        "# simulation of self-attention layer O(n^2*d)\n",
        "start_time = time.time()\n",
        "for i in range(n):\n",
        "    for j in range(n):\n",
        "        _ = np.dot(input_seq[i], input_seq[j])\n",
        "at=time.time()-start_time\n",
        "print(f\"Self-attention computation time: {time.time() - start_time} seconds\")\n",
        "\n",
        "# simulation of recurrent layer O(n*d^2)\n",
        "start_time = time.time()\n",
        "hidden_state = np.zeros(d)\n",
        "for i in range(n):\n",
        "    for j in range(d):\n",
        "        for k in range(d):\n",
        "            hidden_state[j] += input_seq[i, j] * hidden_state[k]\n",
        "rt=time.time()-start_time\n",
        "print(f\"Recurrent layer computation time: {time.time() - start_time} seconds\")\n",
        "\n",
        "# Calculate the total\n",
        "total = at + rt\n",
        "\n",
        "# Calculate the percentage of at\n",
        "percentage_at = round((at / total) * 100,2)\n",
        "\n",
        "# Output the result\n",
        "print(f\"The percentage of 'computational time for attention' in the sum of 'attention' and 'recurrent' is {percentage_at}%\")\n",
        "\n",
        "# Calculate x, which is the ratio of rt to at\n",
        "x = round(rt / at,2)"
      ]
    },
    {
      "cell_type": "markdown",
      "metadata": {
        "id": "HDfcbxEZw1fM"
      },
      "source": [
        "## Output\n",
        "   \n",
        "Self-attention computation time: 0.4366953372955322 seconds  \n",
        "Recurrent layer computation time: 103.40037226676941 seconds  \n",
        "The percentage of 'computational time for attention' in the sum of 'attention' and 'recurrent' is 0.42%\n",
        "\n",
        "**Note:** the processors may evolve but the concepts remains the same."
      ]
    },
    {
      "cell_type": "markdown",
      "metadata": {
        "id": "Li-JQlN7LfQ_"
      },
      "source": [
        "# GPU"
      ]
    },
    {
      "cell_type": "markdown",
      "metadata": {
        "id": "UaSl9Ija--Qd"
      },
      "source": [
        "**MARCH 28,2025 update** GPUs are not always available in Google Colab free plans. Make sure to check if you can activated one before running this code. This code checks to see if a GPU has been selected or not."
      ]
    },
    {
      "cell_type": "code",
      "execution_count": 1,
      "metadata": {
        "colab": {
          "base_uri": "https://localhost:8080/"
        },
        "id": "HpVY5o0m_Oej",
        "outputId": "e27ebbde-99d2-4425-f78b-60149323f808"
      },
      "outputs": [
        {
          "output_type": "stream",
          "name": "stdout",
          "text": [
            "Fri Mar 28 22:49:53 2025       \n",
            "+-----------------------------------------------------------------------------------------+\n",
            "| NVIDIA-SMI 550.54.15              Driver Version: 550.54.15      CUDA Version: 12.4     |\n",
            "|-----------------------------------------+------------------------+----------------------+\n",
            "| GPU  Name                 Persistence-M | Bus-Id          Disp.A | Volatile Uncorr. ECC |\n",
            "| Fan  Temp   Perf          Pwr:Usage/Cap |           Memory-Usage | GPU-Util  Compute M. |\n",
            "|                                         |                        |               MIG M. |\n",
            "|=========================================+========================+======================|\n",
            "|   0  Tesla T4                       Off |   00000000:00:04.0 Off |                    0 |\n",
            "| N/A   50C    P8              9W /   70W |       0MiB /  15360MiB |      0%      Default |\n",
            "|                                         |                        |                  N/A |\n",
            "+-----------------------------------------+------------------------+----------------------+\n",
            "                                                                                         \n",
            "+-----------------------------------------------------------------------------------------+\n",
            "| Processes:                                                                              |\n",
            "|  GPU   GI   CI        PID   Type   Process name                              GPU Memory |\n",
            "|        ID   ID                                                               Usage      |\n",
            "|=========================================================================================|\n",
            "|  No running processes found                                                             |\n",
            "+-----------------------------------------------------------------------------------------+\n"
          ]
        }
      ],
      "source": [
        "gpu_info = !nvidia-smi\n",
        "gpu_info = '\\n'.join(gpu_info)\n",
        "if gpu_info.find('failed') >= 0:\n",
        "  print('Not connected to a GPU')\n",
        "else:\n",
        "  print(gpu_info)"
      ]
    },
    {
      "cell_type": "code",
      "execution_count": 2,
      "metadata": {
        "colab": {
          "base_uri": "https://localhost:8080/"
        },
        "id": "oZS-Kobd7I1Q",
        "outputId": "60c80ee1-3c46-4ac1-f760-03ec1766f1ea"
      },
      "outputs": [
        {
          "output_type": "stream",
          "name": "stdout",
          "text": [
            "cuda\n",
            "Self-attention computation time: 0.1466076374053955 seconds\n",
            "Recurrent layer computation time: 10.107181310653687 seconds\n",
            "The percentage of self-attention computation in the sum of self-attention and recurrent computation is 1.43%\n"
          ]
        }
      ],
      "source": [
        "# PyTorch version\n",
        "import torch\n",
        "import time\n",
        "\n",
        "# define the sequence length and representation dimensionality\n",
        "n = 512\n",
        "d = 512\n",
        "\n",
        "# Use GPU if available, otherwise stick with cpu\n",
        "device = torch.device(\"cuda\" if torch.cuda.is_available() else \"cpu\")\n",
        "print(device)\n",
        "# define the inputs\n",
        "input_seq = torch.rand(n, d, device=device)\n",
        "\n",
        "# simulation of self-attention layer O(n^2*d)\n",
        "start_time = time.time()\n",
        "_ = torch.mm(input_seq, input_seq.t())\n",
        "at = time.time() - start_time\n",
        "print(f\"Self-attention computation time: {at} seconds\")\n",
        "\n",
        "# simulation of recurrent layer O(n*d^2)\n",
        "start_time = time.time()\n",
        "hidden_state = torch.zeros(d, device=device)\n",
        "for i in range(n):\n",
        "    for j in range(d):\n",
        "        for k in range(d):\n",
        "            hidden_state[j] += input_seq[i, j] * hidden_state[k]\n",
        "            ct = time.time() - start_time\n",
        "            if ct>at*10:\n",
        "              break\n",
        "\n",
        "rt = time.time() - start_time\n",
        "print(f\"Recurrent layer computation time: {rt} seconds\")\n",
        "\n",
        "# Calculate the total\n",
        "total = at + rt\n",
        "\n",
        "# Calculate the percentage of at\n",
        "percentage_at = round((at / total) * 100, 2)\n",
        "\n",
        "# Output the result\n",
        "print(f\"The percentage of self-attention computation in the sum of self-attention and recurrent computation is {percentage_at}%\")"
      ]
    },
    {
      "cell_type": "markdown",
      "metadata": {
        "id": "dv2fEBebxLHj"
      },
      "source": [
        "## Output    \n",
        "cuda\n",
        "Self-attention computation time: 0.1466076374053955 seconds\n",
        "Recurrent layer computation time: 10.107181310653687 seconds\n",
        "The percentage of self-attention computation in the sum of self-attention and recurrent computation is 1.43%\n",
        "\n",
        "**Note:**: the processors may evolve but the concepts remains the same."
      ]
    },
    {
      "cell_type": "code",
      "execution_count": 3,
      "metadata": {
        "colab": {
          "base_uri": "https://localhost:8080/"
        },
        "id": "cYcOZciYKRUf",
        "outputId": "26d5c37c-18a0-4f91-d0b1-d397207dc083"
      },
      "outputs": [
        {
          "output_type": "stream",
          "name": "stdout",
          "text": [
            "Fri Mar 28 22:55:21 2025       \n",
            "+-----------------------------------------------------------------------------------------+\n",
            "| NVIDIA-SMI 550.54.15              Driver Version: 550.54.15      CUDA Version: 12.4     |\n",
            "|-----------------------------------------+------------------------+----------------------+\n",
            "| GPU  Name                 Persistence-M | Bus-Id          Disp.A | Volatile Uncorr. ECC |\n",
            "| Fan  Temp   Perf          Pwr:Usage/Cap |           Memory-Usage | GPU-Util  Compute M. |\n",
            "|                                         |                        |               MIG M. |\n",
            "|=========================================+========================+======================|\n",
            "|   0  Tesla T4                       Off |   00000000:00:04.0 Off |                    0 |\n",
            "| N/A   57C    P0             27W /   70W |     152MiB /  15360MiB |      0%      Default |\n",
            "|                                         |                        |                  N/A |\n",
            "+-----------------------------------------+------------------------+----------------------+\n",
            "                                                                                         \n",
            "+-----------------------------------------------------------------------------------------+\n",
            "| Processes:                                                                              |\n",
            "|  GPU   GI   CI        PID   Type   Process name                              GPU Memory |\n",
            "|        ID   ID                                                               Usage      |\n",
            "|=========================================================================================|\n",
            "+-----------------------------------------------------------------------------------------+\n"
          ]
        }
      ],
      "source": [
        "!nvidia-smi"
      ]
    },
    {
      "cell_type": "markdown",
      "metadata": {
        "id": "gTry34c4LEyg"
      },
      "source": [
        "# TPU"
      ]
    },
    {
      "cell_type": "markdown",
      "metadata": {
        "id": "x9Lpri8fBiLt"
      },
      "source": [
        "## TPU information\n",
        "\n",
        "**MARCH 28, 2025 update**\n",
        "Restart the runtime before running this cell after selecting a TPU in the Runtime->Change Runtime type menu before running the following cells.\n"
      ]
    },
    {
      "cell_type": "code",
      "execution_count": null,
      "metadata": {
        "colab": {
          "base_uri": "https://localhost:8080/"
        },
        "id": "SsocZAipCXpo",
        "outputId": "2061b6c0-8d14-4697-faeb-b756547f8438"
      },
      "outputs": [
        {
          "output_type": "stream",
          "name": "stdout",
          "text": [
            "Running on TPU: \n",
            "TPU found\n"
          ]
        }
      ],
      "source": [
        "import tensorflow as tf\n",
        "\n",
        "try:\n",
        "    tpu = tf.distribute.cluster_resolver.TPUClusterResolver()  # Tries to detect a TPU\n",
        "    print('Running on TPU:', tpu.master())\n",
        "except ValueError:\n",
        "    print(\"Could not connect to TPU\")\n",
        "    tpu = None\n",
        "\n",
        "if tpu:\n",
        "    print(\"TPU found\")\n",
        "else:\n",
        "    print(\"No TPU found\")"
      ]
    },
    {
      "cell_type": "code",
      "execution_count": null,
      "metadata": {
        "colab": {
          "base_uri": "https://localhost:8080/"
        },
        "id": "0hpBztJ3eG7t",
        "outputId": "e501b52e-d070-45e2-d2fa-d384275b34f6"
      },
      "outputs": [
        {
          "output_type": "stream",
          "name": "stdout",
          "text": [
            "Self-attention computation time: 0.04091024398803711 seconds\n",
            "Recurrent layer computation time: 55.98019599914551 seconds\n",
            "The percentage of self-attention computation in the sum of self-attention and recurrent computation is 0.07%\n"
          ]
        }
      ],
      "source": [
        "import tensorflow as tf\n",
        "import numpy as np\n",
        "import time\n",
        "\n",
        "# define the sequence length and representation dimensionality\n",
        "n = 512\n",
        "d = 512\n",
        "\n",
        "# define the inputs\n",
        "input_seq = tf.random.normal((n, d), dtype=tf.float32)\n",
        "\n",
        "# simulation of self-attention layer O(n^2*d)\n",
        "start_time = time.time()\n",
        "_ = tf.matmul(input_seq, input_seq, transpose_b=True)\n",
        "at = time.time() - start_time\n",
        "print(f\"Self-attention computation time: {at} seconds\")\n",
        "\n",
        "# simulation of recurrent layer O(n*d^2)\n",
        "start_time = time.time()\n",
        "hidden_state = np.zeros((n, d), dtype=np.float32)\n",
        "for i in range(n):\n",
        "    for j in range(d):\n",
        "        for k in range(d):\n",
        "            hidden_state[i, j] += input_seq[i, j].numpy() * hidden_state[min(i,k), j]\n",
        "            ct = time.time() - start_time\n",
        "            if ct>at*10:\n",
        "              break\n",
        "\n",
        "rt = time.time() - start_time\n",
        "print(f\"Recurrent layer computation time: {rt} seconds\")\n",
        "\n",
        "# Calculate the total\n",
        "total = at + rt\n",
        "\n",
        "# Calculate the percentage of at\n",
        "percentage_at = round((at / total) * 100, 2)\n",
        "\n",
        "# Output the result\n",
        "print(f\"The percentage of self-attention computation in the sum of self-attention and recurrent computation is {percentage_at}%\")"
      ]
    },
    {
      "cell_type": "markdown",
      "metadata": {
        "id": "FRhHvEgAxrVL"
      },
      "source": [
        "## Output\n",
        "Self-attention computation time: 0.04091024398803711 seconds  \n",
        "Recurrent layer computation time: 55.98019599914551 seconds  \n",
        "The percentage of self-attention computation in the sum of self-attention and recurrent computation is 0.07%'  \n",
        "**Note:**\n",
        " The processors may evolve but the concepts remains the same."
      ]
    },
    {
      "cell_type": "markdown",
      "metadata": {
        "id": "on7dMgSRS2hm"
      },
      "source": [
        "## LLM configuration"
      ]
    },
    {
      "cell_type": "code",
      "execution_count": null,
      "metadata": {
        "colab": {
          "base_uri": "https://localhost:8080/"
        },
        "id": "KhFJpLDelUBe",
        "outputId": "af7467f6-8306-442a-da54-08f4816045e6"
      },
      "outputs": [
        {
          "output_type": "stream",
          "name": "stdout",
          "text": [
            "Self-attention computation time: 7.127515554428101 seconds\n"
          ]
        }
      ],
      "source": [
        "import tensorflow as tf\n",
        "import numpy as np\n",
        "import time\n",
        "\n",
        "# define the sequence length and representation dimensionality\n",
        "n =  32768\n",
        "d = 12288\n",
        "\n",
        "# define the inputs\n",
        "input_seq = tf.random.normal((n, d), dtype=tf.float32)\n",
        "\n",
        "# simulation of self-attention layer O(n^2*d)\n",
        "start_time = time.time()\n",
        "_ = tf.matmul(input_seq, input_seq, transpose_b=True)\n",
        "\n",
        "at = time.time() - start_time\n",
        "print(f\"Self-attention computation time: {at} seconds\")"
      ]
    },
    {
      "cell_type": "markdown",
      "metadata": {
        "id": "wd8_AfScx7sl"
      },
      "source": [
        "### Output LLM configuration\n",
        "\n",
        "Self-attention computation time: 7.127515554428101 seconds\n",
        "\n",
        "**Note:**   \n",
        "The processors may evolve but the concepts remains the same."
      ]
    }
  ],
  "metadata": {
    "colab": {
      "provenance": [],
      "gpuType": "V28"
    },
    "kernelspec": {
      "display_name": "Python 3",
      "name": "python3"
    },
    "language_info": {
      "name": "python"
    },
    "accelerator": "TPU"
  },
  "nbformat": 4,
  "nbformat_minor": 0
}