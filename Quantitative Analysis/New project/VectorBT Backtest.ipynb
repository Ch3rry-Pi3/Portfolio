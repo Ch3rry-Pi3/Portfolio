{
 "cells": [
  {
   "cell_type": "code",
   "execution_count": 1,
   "metadata": {},
   "outputs": [],
   "source": [
    "import numpy as np\n",
    "import scipy.stats as stats\n",
    "import vectorbt as vbt\n",
    "import warnings\n",
    "warnings.filterwarnings('ignore')"
   ]
  },
  {
   "cell_type": "code",
   "execution_count": 2,
   "metadata": {},
   "outputs": [],
   "source": [
    "start = \"2016-01-01 UTC\"\n",
    "end = \"2020-01-01 UTC\"\n",
    "prices = vbt.YFData.download(\n",
    "    \"AAPL\",\n",
    "    start=start,\n",
    "    end=end\n",
    ").get(\"Close\")"
   ]
  },
  {
   "cell_type": "code",
   "execution_count": 3,
   "metadata": {},
   "outputs": [
    {
     "data": {
      "application/vnd.jupyter.widget-view+json": {
       "model_id": "f3c4769a4bd541768dd731dbca6f8b02",
       "version_major": 2,
       "version_minor": 0
      },
      "text/plain": [
       "FigureWidget({\n",
       "    'data': [{'colorscale': [[0.0, '#1f77b4'], [1.0, '#1f77b4']],\n",
       "              'hoverongaps': False,\n",
       "              'name': '0',\n",
       "              'showlegend': True,\n",
       "              'showscale': False,\n",
       "              'type': 'heatmap',\n",
       "              'uid': '69ea5ef5-1f2e-40f8-8447-253cbc477e4e',\n",
       "              'x': array([datetime.datetime(2016, 1, 4, 5, 0, tzinfo=datetime.timezone.utc),\n",
       "                          datetime.datetime(2016, 1, 5, 5, 0, tzinfo=datetime.timezone.utc),\n",
       "                          datetime.datetime(2016, 1, 6, 5, 0, tzinfo=datetime.timezone.utc), ...,\n",
       "                          datetime.datetime(2019, 12, 27, 5, 0, tzinfo=datetime.timezone.utc),\n",
       "                          datetime.datetime(2019, 12, 30, 5, 0, tzinfo=datetime.timezone.utc),\n",
       "                          datetime.datetime(2019, 12, 31, 5, 0, tzinfo=datetime.timezone.utc)],\n",
       "                         dtype=object),\n",
       "              'y': array([29, 28, 27, 26, 25, 24, 23, 22, 21, 20, 19, 18, 17, 16, 15, 14, 13, 12,\n",
       "                          11, 10,  9,  8,  7,  6,  5,  4,  3,  2,  1,  0], dtype=int64),\n",
       "              'z': array([[nan, nan, nan, ..., nan, nan, nan],\n",
       "                          [nan, nan, nan, ..., nan, nan, nan],\n",
       "                          [nan, nan, nan, ..., nan, nan, nan],\n",
       "                          ...,\n",
       "                          [nan, nan, nan, ..., nan, nan, nan],\n",
       "                          [nan, nan, nan, ..., nan, nan, nan],\n",
       "                          [ 0.,  0.,  0., ..., nan, nan, nan]])},\n",
       "             {'colorscale': [[0.0, '#ff7f0e'], [1.0, '#ff7f0e']],\n",
       "              'hoverongaps': False,\n",
       "              'name': '1',\n",
       "              'showlegend': True,\n",
       "              'showscale': False,\n",
       "              'type': 'heatmap',\n",
       "              'uid': '14a1becb-fee8-4d73-b41a-299dabbf5a7c',\n",
       "              'x': array([datetime.datetime(2016, 1, 4, 5, 0, tzinfo=datetime.timezone.utc),\n",
       "                          datetime.datetime(2016, 1, 5, 5, 0, tzinfo=datetime.timezone.utc),\n",
       "                          datetime.datetime(2016, 1, 6, 5, 0, tzinfo=datetime.timezone.utc), ...,\n",
       "                          datetime.datetime(2019, 12, 27, 5, 0, tzinfo=datetime.timezone.utc),\n",
       "                          datetime.datetime(2019, 12, 30, 5, 0, tzinfo=datetime.timezone.utc),\n",
       "                          datetime.datetime(2019, 12, 31, 5, 0, tzinfo=datetime.timezone.utc)],\n",
       "                         dtype=object),\n",
       "              'y': array([29, 28, 27, 26, 25, 24, 23, 22, 21, 20, 19, 18, 17, 16, 15, 14, 13, 12,\n",
       "                          11, 10,  9,  8,  7,  6,  5,  4,  3,  2,  1,  0], dtype=int64),\n",
       "              'z': array([[nan, nan, nan, ...,  1.,  1.,  1.],\n",
       "                          [nan, nan, nan, ..., nan, nan, nan],\n",
       "                          [nan, nan, nan, ..., nan, nan, nan],\n",
       "                          ...,\n",
       "                          [nan, nan, nan, ..., nan, nan, nan],\n",
       "                          [nan, nan, nan, ..., nan, nan, nan],\n",
       "                          [nan, nan, nan, ..., nan, nan, nan]])}],\n",
       "    'layout': {'height': 225,\n",
       "               'legend': {'orientation': 'h',\n",
       "                          'traceorder': 'normal',\n",
       "                          'x': 1,\n",
       "                          'xanchor': 'right',\n",
       "                          'y': 1.02,\n",
       "                          'yanchor': 'bottom'},\n",
       "               'margin': {'b': 30, 'l': 30, 'r': 30, 't': 30},\n",
       "               'template': '...',\n",
       "               'width': 700,\n",
       "               'yaxis': {'type': 'category'}}\n",
       "})"
      ]
     },
     "execution_count": 3,
     "metadata": {},
     "output_type": "execute_result"
    }
   ],
   "source": [
    "prices.vbt.rolling_split(\n",
    "    n=30,\n",
    "    window_len=365 * 2,\n",
    "    set_lens=(180,),\n",
    "    left_to_right=False,\n",
    "    plot=True\n",
    ")"
   ]
  },
  {
   "cell_type": "code",
   "execution_count": 4,
   "metadata": {},
   "outputs": [],
   "source": [
    "(in_price, in_indexes), (out_price, out_indexes) = prices.vbt.rolling_split(\n",
    "    n=30,\n",
    "    window_len=365 * 2,\n",
    "    set_lens=(180,),\n",
    "    left_to_right=False,\n",
    "    plot=False\n",
    ")"
   ]
  },
  {
   "cell_type": "code",
   "execution_count": 5,
   "metadata": {},
   "outputs": [],
   "source": [
    "def simulate_all_params(price, windows, **kwargs):\n",
    "    fast_ma, slow_ma = vbt.MA.run_combs(\n",
    "        price,\n",
    "        windows,\n",
    "        r=2,\n",
    "        short_names=[\"fast\", \"slow\"]\n",
    "    )\n",
    "\n",
    "    entries = fast_ma.ma_crossed_above(slow_ma)\n",
    "    exits = fast_ma.ma_crossed_below(slow_ma)\n",
    "\n",
    "    pf = vbt.Portfolio.from_signals(\n",
    "        price, entries, exits, **kwargs)\n",
    "    \n",
    "    return pf.sharpe_ratio()\n",
    "    "
   ]
  },
  {
   "cell_type": "code",
   "execution_count": 6,
   "metadata": {},
   "outputs": [],
   "source": [
    "in_sharpe = simulate_all_params(\n",
    "    in_price,\n",
    "    np.arange(10, 40),\n",
    "    direction=\"both\",\n",
    "    freq=\"d\"\n",
    ")"
   ]
  },
  {
   "cell_type": "code",
   "execution_count": 7,
   "metadata": {},
   "outputs": [
    {
     "data": {
      "application/vnd.jupyter.widget-view+json": {
       "model_id": "9653097c58d64ecdbd13a09b1877840a",
       "version_major": 2,
       "version_minor": 0
      },
      "text/plain": [
       "FigureWidget({\n",
       "    'data': [{'name': 'sharpe_ratio',\n",
       "              'showlegend': True,\n",
       "              'type': 'scatter',\n",
       "              'uid': 'c34b25fa-37f5-41ad-b206-1ac90f57972b',\n",
       "              'x': [(10, 11, 0), (10, 11, 1), (10, 11, 2), ..., (38, 39, 27), (38,\n",
       "                    39, 28), (38, 39, 29)],\n",
       "              'y': array([ 1.48300581,  1.31568116,  1.38261269, ..., -0.87533184, -0.80065364,\n",
       "                          -0.69531131])}],\n",
       "    'layout': {'height': 350,\n",
       "               'legend': {'orientation': 'h',\n",
       "                          'traceorder': 'normal',\n",
       "                          'x': 1,\n",
       "                          'xanchor': 'right',\n",
       "                          'y': 1.02,\n",
       "                          'yanchor': 'bottom'},\n",
       "               'margin': {'b': 30, 'l': 30, 'r': 30, 't': 30},\n",
       "               'template': '...',\n",
       "               'width': 700}\n",
       "})"
      ]
     },
     "execution_count": 7,
     "metadata": {},
     "output_type": "execute_result"
    }
   ],
   "source": [
    "in_sharpe.vbt.plot()"
   ]
  },
  {
   "cell_type": "code",
   "execution_count": 8,
   "metadata": {},
   "outputs": [
    {
     "name": "stdout",
     "output_type": "stream",
     "text": [
      "Best Sharpe Ratio: 2.1476880920076167\n",
      "Best Parameters: (24, 25, 21)\n",
      "Fast Moving Average: 24\n",
      "Slow Moving Average: 25\n"
     ]
    }
   ],
   "source": [
    "# Extract the best index\n",
    "best_index = in_sharpe.idxmax()  # Gets the index (tuple of parameters) for max Sharpe ratio\n",
    "best_sharpe = in_sharpe.max()   # Max Sharpe ratio\n",
    "\n",
    "# If `best_index` is already a tuple (like (24, 25, 21)), no further processing is needed\n",
    "print(f\"Best Sharpe Ratio: {best_sharpe}\")\n",
    "print(f\"Best Parameters: {best_index}\")\n",
    "\n",
    "# Optionally, unpack the tuple for clarity\n",
    "fast_ma, slow_ma, other_param = best_index\n",
    "print(f\"Fast Moving Average: {fast_ma}\")\n",
    "print(f\"Slow Moving Average: {slow_ma}\")"
   ]
  },
  {
   "cell_type": "code",
   "execution_count": 9,
   "metadata": {},
   "outputs": [],
   "source": [
    "def simulate_best_params(price, best_fast_windows, best_slow_windows, **kwargs):\n",
    "    # Calculate the fast moving average\n",
    "    fast_ma = vbt.MA.run(\n",
    "        price,\n",
    "        window=best_fast_windows,\n",
    "        per_column=True\n",
    "    )\n",
    "    \n",
    "    # Calculate the slow moving average\n",
    "    slow_ma = vbt.MA.run(\n",
    "        price,\n",
    "        window=best_slow_windows,\n",
    "        per_column=True\n",
    "    )\n",
    "    \n",
    "    # Define entry and exit signals based on moving average crossovers\n",
    "    entries = fast_ma.ma_crossed_above(slow_ma)\n",
    "    exits = fast_ma.ma_crossed_below(slow_ma)\n",
    "    \n",
    "    # Create a portfolio based on the signals\n",
    "    pf = vbt.Portfolio.from_signals(price, entries, exits, **kwargs)\n",
    "    \n",
    "    # Return the Sharpe ratio of the portfolio\n",
    "    return pf.sharpe_ratio()"
   ]
  },
  {
   "cell_type": "code",
   "execution_count": 10,
   "metadata": {},
   "outputs": [],
   "source": [
    "# Simulate using the best parameters\n",
    "out_test_sharpe = simulate_best_params(\n",
    "    out_price,  # Out-of-sample price data\n",
    "    fast_ma,\n",
    "    slow_ma,\n",
    "    direction=\"both\",  # Allow both long and short positions\n",
    "    freq=\"d\"  # Daily frequency\n",
    ")"
   ]
  },
  {
   "cell_type": "code",
   "execution_count": 11,
   "metadata": {},
   "outputs": [
    {
     "data": {
      "text/plain": [
       "1.7105071911022947"
      ]
     },
     "execution_count": 11,
     "metadata": {},
     "output_type": "execute_result"
    }
   ],
   "source": [
    "out_test_sharpe.mean()"
   ]
  },
  {
   "cell_type": "code",
   "execution_count": 13,
   "metadata": {},
   "outputs": [
    {
     "name": "stdout",
     "output_type": "stream",
     "text": [
      "T-statistic: -0.2704267367239909\n",
      "P-value: 0.6056263432582751\n",
      "The strategy is NOT statistically significant (likely overfitted).\n"
     ]
    }
   ],
   "source": [
    "# Perform the t-test\n",
    "t_stat, p_value = stats.ttest_ind(\n",
    "    a=out_test_sharpe,  # Out-of-sample Sharpe ratios\n",
    "    b=in_sharpe[best_index],  # In-sample Sharpe ratios for best parameters\n",
    "    alternative=\"greater\"  # One-sided test: testing if out > in\n",
    ")\n",
    "\n",
    "# Print the results\n",
    "print(f\"T-statistic: {t_stat}\")\n",
    "print(f\"P-value: {p_value}\")\n",
    "\n",
    "# Interpret the results\n",
    "if p_value < 0.05:\n",
    "    print(\"The strategy is statistically significant.\")\n",
    "else:\n",
    "    print(\"The strategy is NOT statistically significant (likely overfitted).\")"
   ]
  }
 ],
 "metadata": {
  "kernelspec": {
   "display_name": "base",
   "language": "python",
   "name": "python3"
  },
  "language_info": {
   "codemirror_mode": {
    "name": "ipython",
    "version": 3
   },
   "file_extension": ".py",
   "mimetype": "text/x-python",
   "name": "python",
   "nbconvert_exporter": "python",
   "pygments_lexer": "ipython3",
   "version": "3.12.3"
  }
 },
 "nbformat": 4,
 "nbformat_minor": 2
}
