{
 "cells": [
  {
   "cell_type": "code",
   "execution_count": 1,
   "metadata": {
    "execution": {
     "iopub.execute_input": "2025-05-31T22:04:51.784280Z",
     "iopub.status.busy": "2025-05-31T22:04:51.783810Z",
     "iopub.status.idle": "2025-05-31T22:04:55.122453Z",
     "shell.execute_reply": "2025-05-31T22:04:55.121145Z",
     "shell.execute_reply.started": "2025-05-31T22:04:51.784229Z"
    }
   },
   "outputs": [
    {
     "name": "stdout",
     "output_type": "stream",
     "text": [
      "Note: you may need to restart the kernel to use updated packages.\n"
     ]
    }
   ],
   "source": [
    "%pip install --quiet pandas openpyxl"
   ]
  },
  {
   "attachments": {},
   "cell_type": "markdown",
   "metadata": {},
   "source": [
    "Now we can read in data from an Excel file, using pandas."
   ]
  },
  {
   "cell_type": "code",
   "execution_count": 2,
   "metadata": {
    "execution": {
     "iopub.execute_input": "2025-05-31T22:04:55.124692Z",
     "iopub.status.busy": "2025-05-31T22:04:55.124221Z",
     "iopub.status.idle": "2025-05-31T22:04:56.019755Z",
     "shell.execute_reply": "2025-05-31T22:04:56.018463Z",
     "shell.execute_reply.started": "2025-05-31T22:04:55.124637Z"
    }
   },
   "outputs": [],
   "source": [
    "import pandas\n",
    "data = pandas.read_excel('Students.xlsx', sheet_name=None)"
   ]
  },
  {
   "attachments": {},
   "cell_type": "markdown",
   "metadata": {},
   "source": [
    "The file has two worksheets in it, one with student information."
   ]
  },
  {
   "cell_type": "code",
   "execution_count": 3,
   "metadata": {
    "execution": {
     "iopub.execute_input": "2025-05-31T22:04:56.021495Z",
     "iopub.status.busy": "2025-05-31T22:04:56.021160Z",
     "iopub.status.idle": "2025-05-31T22:04:56.038097Z",
     "shell.execute_reply": "2025-05-31T22:04:56.037186Z",
     "shell.execute_reply.started": "2025-05-31T22:04:56.021466Z"
    }
   },
   "outputs": [
    {
     "data": {
      "text/html": [
       "<div>\n",
       "<style scoped>\n",
       "    .dataframe tbody tr th:only-of-type {\n",
       "        vertical-align: middle;\n",
       "    }\n",
       "\n",
       "    .dataframe tbody tr th {\n",
       "        vertical-align: top;\n",
       "    }\n",
       "\n",
       "    .dataframe thead th {\n",
       "        text-align: right;\n",
       "    }\n",
       "</style>\n",
       "<table border=\"1\" class=\"dataframe\">\n",
       "  <thead>\n",
       "    <tr style=\"text-align: right;\">\n",
       "      <th></th>\n",
       "      <th>Student ID</th>\n",
       "      <th>First Name</th>\n",
       "      <th>Last Name</th>\n",
       "      <th>GPA</th>\n",
       "      <th>Major</th>\n",
       "    </tr>\n",
       "  </thead>\n",
       "  <tbody>\n",
       "    <tr>\n",
       "      <th>0</th>\n",
       "      <td>1</td>\n",
       "      <td>Emma</td>\n",
       "      <td>Johnson</td>\n",
       "      <td>3.8</td>\n",
       "      <td>CS</td>\n",
       "    </tr>\n",
       "    <tr>\n",
       "      <th>1</th>\n",
       "      <td>2</td>\n",
       "      <td>Liam</td>\n",
       "      <td>Smith</td>\n",
       "      <td>3.5</td>\n",
       "      <td>CS</td>\n",
       "    </tr>\n",
       "    <tr>\n",
       "      <th>2</th>\n",
       "      <td>3</td>\n",
       "      <td>Olivia</td>\n",
       "      <td>Williams</td>\n",
       "      <td>3.9</td>\n",
       "      <td>CS</td>\n",
       "    </tr>\n",
       "    <tr>\n",
       "      <th>3</th>\n",
       "      <td>4</td>\n",
       "      <td>Noah</td>\n",
       "      <td>Jones</td>\n",
       "      <td>3.7</td>\n",
       "      <td>Maths</td>\n",
       "    </tr>\n",
       "    <tr>\n",
       "      <th>4</th>\n",
       "      <td>5</td>\n",
       "      <td>Ava</td>\n",
       "      <td>Brown</td>\n",
       "      <td>3.2</td>\n",
       "      <td>CS</td>\n",
       "    </tr>\n",
       "    <tr>\n",
       "      <th>5</th>\n",
       "      <td>6</td>\n",
       "      <td>Isabella</td>\n",
       "      <td>Davis</td>\n",
       "      <td>3.6</td>\n",
       "      <td>CS</td>\n",
       "    </tr>\n",
       "    <tr>\n",
       "      <th>6</th>\n",
       "      <td>7</td>\n",
       "      <td>Sophia</td>\n",
       "      <td>Miller</td>\n",
       "      <td>2.9</td>\n",
       "      <td>CS</td>\n",
       "    </tr>\n",
       "    <tr>\n",
       "      <th>7</th>\n",
       "      <td>8</td>\n",
       "      <td>Mia</td>\n",
       "      <td>Wilson</td>\n",
       "      <td>3.3</td>\n",
       "      <td>Maths</td>\n",
       "    </tr>\n",
       "    <tr>\n",
       "      <th>8</th>\n",
       "      <td>9</td>\n",
       "      <td>Harper</td>\n",
       "      <td>Moore</td>\n",
       "      <td>3.1</td>\n",
       "      <td>CS</td>\n",
       "    </tr>\n",
       "    <tr>\n",
       "      <th>9</th>\n",
       "      <td>10</td>\n",
       "      <td>Benjamin</td>\n",
       "      <td>Taylor</td>\n",
       "      <td>3.8</td>\n",
       "      <td>Maths</td>\n",
       "    </tr>\n",
       "    <tr>\n",
       "      <th>10</th>\n",
       "      <td>11</td>\n",
       "      <td>Elijah</td>\n",
       "      <td>Anderson</td>\n",
       "      <td>3.9</td>\n",
       "      <td>CS</td>\n",
       "    </tr>\n",
       "    <tr>\n",
       "      <th>11</th>\n",
       "      <td>12</td>\n",
       "      <td>Oliver</td>\n",
       "      <td>Thomas</td>\n",
       "      <td>2.7</td>\n",
       "      <td>Maths</td>\n",
       "    </tr>\n",
       "    <tr>\n",
       "      <th>12</th>\n",
       "      <td>13</td>\n",
       "      <td>Mei Ling</td>\n",
       "      <td>Chen</td>\n",
       "      <td>3.7</td>\n",
       "      <td>CS</td>\n",
       "    </tr>\n",
       "    <tr>\n",
       "      <th>13</th>\n",
       "      <td>14</td>\n",
       "      <td>Aarav</td>\n",
       "      <td>Patel</td>\n",
       "      <td>3.6</td>\n",
       "      <td>CS</td>\n",
       "    </tr>\n",
       "    <tr>\n",
       "      <th>14</th>\n",
       "      <td>15</td>\n",
       "      <td>Layla</td>\n",
       "      <td>Rahman</td>\n",
       "      <td>3.2</td>\n",
       "      <td>CS</td>\n",
       "    </tr>\n",
       "    <tr>\n",
       "      <th>15</th>\n",
       "      <td>16</td>\n",
       "      <td>Michael</td>\n",
       "      <td>Martin</td>\n",
       "      <td>2.9</td>\n",
       "      <td>Maths</td>\n",
       "    </tr>\n",
       "    <tr>\n",
       "      <th>16</th>\n",
       "      <td>17</td>\n",
       "      <td>Emily</td>\n",
       "      <td>Thompson</td>\n",
       "      <td>3.3</td>\n",
       "      <td>CS</td>\n",
       "    </tr>\n",
       "    <tr>\n",
       "      <th>17</th>\n",
       "      <td>18</td>\n",
       "      <td>Zara</td>\n",
       "      <td>Abbas</td>\n",
       "      <td>2.6</td>\n",
       "      <td>CS</td>\n",
       "    </tr>\n",
       "    <tr>\n",
       "      <th>18</th>\n",
       "      <td>19</td>\n",
       "      <td>Alexander</td>\n",
       "      <td>Martinez</td>\n",
       "      <td>3.8</td>\n",
       "      <td>CS</td>\n",
       "    </tr>\n",
       "    <tr>\n",
       "      <th>19</th>\n",
       "      <td>20</td>\n",
       "      <td>Aarav</td>\n",
       "      <td>Sharma</td>\n",
       "      <td>3.9</td>\n",
       "      <td>Maths</td>\n",
       "    </tr>\n",
       "    <tr>\n",
       "      <th>20</th>\n",
       "      <td>21</td>\n",
       "      <td>Daniel</td>\n",
       "      <td>Clark</td>\n",
       "      <td>2.8</td>\n",
       "      <td>CS</td>\n",
       "    </tr>\n",
       "    <tr>\n",
       "      <th>21</th>\n",
       "      <td>22</td>\n",
       "      <td>Jing</td>\n",
       "      <td>Wang</td>\n",
       "      <td>3.7</td>\n",
       "      <td>CS</td>\n",
       "    </tr>\n",
       "    <tr>\n",
       "      <th>22</th>\n",
       "      <td>23</td>\n",
       "      <td>Fatima</td>\n",
       "      <td>Ali</td>\n",
       "      <td>3.6</td>\n",
       "      <td>Maths</td>\n",
       "    </tr>\n",
       "    <tr>\n",
       "      <th>23</th>\n",
       "      <td>24</td>\n",
       "      <td>Ahmed</td>\n",
       "      <td>Khalid</td>\n",
       "      <td>3.2</td>\n",
       "      <td>CS</td>\n",
       "    </tr>\n",
       "  </tbody>\n",
       "</table>\n",
       "</div>"
      ],
      "text/plain": [
       "    Student ID First Name Last Name  GPA  Major\n",
       "0            1       Emma   Johnson  3.8     CS\n",
       "1            2       Liam     Smith  3.5     CS\n",
       "2            3     Olivia  Williams  3.9     CS\n",
       "3            4       Noah     Jones  3.7  Maths\n",
       "4            5        Ava     Brown  3.2     CS\n",
       "5            6   Isabella     Davis  3.6     CS\n",
       "6            7     Sophia    Miller  2.9     CS\n",
       "7            8        Mia    Wilson  3.3  Maths\n",
       "8            9     Harper     Moore  3.1     CS\n",
       "9           10   Benjamin    Taylor  3.8  Maths\n",
       "10          11     Elijah  Anderson  3.9     CS\n",
       "11          12     Oliver    Thomas  2.7  Maths\n",
       "12          13   Mei Ling      Chen  3.7     CS\n",
       "13          14      Aarav     Patel  3.6     CS\n",
       "14          15      Layla    Rahman  3.2     CS\n",
       "15          16    Michael    Martin  2.9  Maths\n",
       "16          17      Emily  Thompson  3.3     CS\n",
       "17          18       Zara     Abbas  2.6     CS\n",
       "18          19  Alexander  Martinez  3.8     CS\n",
       "19          20      Aarav    Sharma  3.9  Maths\n",
       "20          21     Daniel     Clark  2.8     CS\n",
       "21          22       Jing      Wang  3.7     CS\n",
       "22          23     Fatima       Ali  3.6  Maths\n",
       "23          24      Ahmed    Khalid  3.2     CS"
      ]
     },
     "execution_count": 3,
     "metadata": {},
     "output_type": "execute_result"
    }
   ],
   "source": [
    "students = data['Students']\n",
    "students"
   ]
  },
  {
   "attachments": {},
   "cell_type": "markdown",
   "metadata": {},
   "source": [
    "And another one that has the \"forbidden pairs\" in it."
   ]
  },
  {
   "cell_type": "code",
   "execution_count": 4,
   "metadata": {
    "execution": {
     "iopub.execute_input": "2025-05-31T22:04:56.039262Z",
     "iopub.status.busy": "2025-05-31T22:04:56.039006Z",
     "iopub.status.idle": "2025-05-31T22:04:56.052882Z",
     "shell.execute_reply": "2025-05-31T22:04:56.051901Z",
     "shell.execute_reply.started": "2025-05-31T22:04:56.039237Z"
    }
   },
   "outputs": [
    {
     "data": {
      "text/html": [
       "<div>\n",
       "<style scoped>\n",
       "    .dataframe tbody tr th:only-of-type {\n",
       "        vertical-align: middle;\n",
       "    }\n",
       "\n",
       "    .dataframe tbody tr th {\n",
       "        vertical-align: top;\n",
       "    }\n",
       "\n",
       "    .dataframe thead th {\n",
       "        text-align: right;\n",
       "    }\n",
       "</style>\n",
       "<table border=\"1\" class=\"dataframe\">\n",
       "  <thead>\n",
       "    <tr style=\"text-align: right;\">\n",
       "      <th></th>\n",
       "      <th>Student 1</th>\n",
       "      <th>Student 2</th>\n",
       "    </tr>\n",
       "  </thead>\n",
       "  <tbody>\n",
       "    <tr>\n",
       "      <th>0</th>\n",
       "      <td>1</td>\n",
       "      <td>3</td>\n",
       "    </tr>\n",
       "    <tr>\n",
       "      <th>1</th>\n",
       "      <td>1</td>\n",
       "      <td>4</td>\n",
       "    </tr>\n",
       "    <tr>\n",
       "      <th>2</th>\n",
       "      <td>7</td>\n",
       "      <td>13</td>\n",
       "    </tr>\n",
       "    <tr>\n",
       "      <th>3</th>\n",
       "      <td>8</td>\n",
       "      <td>17</td>\n",
       "    </tr>\n",
       "    <tr>\n",
       "      <th>4</th>\n",
       "      <td>3</td>\n",
       "      <td>21</td>\n",
       "    </tr>\n",
       "  </tbody>\n",
       "</table>\n",
       "</div>"
      ],
      "text/plain": [
       "   Student 1  Student 2\n",
       "0          1          3\n",
       "1          1          4\n",
       "2          7         13\n",
       "3          8         17\n",
       "4          3         21"
      ]
     },
     "execution_count": 4,
     "metadata": {},
     "output_type": "execute_result"
    }
   ],
   "source": [
    "forbiddens = data['Forbidden pairs']\n",
    "forbiddens"
   ]
  },
  {
   "attachments": {},
   "cell_type": "markdown",
   "metadata": {},
   "source": [
    "Let's preprocess the data and prepare it for the model."
   ]
  },
  {
   "cell_type": "code",
   "execution_count": 5,
   "metadata": {
    "execution": {
     "iopub.execute_input": "2025-05-31T22:04:56.055589Z",
     "iopub.status.busy": "2025-05-31T22:04:56.055352Z",
     "iopub.status.idle": "2025-05-31T22:04:56.072920Z",
     "shell.execute_reply": "2025-05-31T22:04:56.072035Z",
     "shell.execute_reply.started": "2025-05-31T22:04:56.055565Z"
    }
   },
   "outputs": [],
   "source": [
    "import math\n",
    "\n",
    "names = {}\n",
    "gpas = {}\n",
    "majors = {}\n",
    "pots = {}\n",
    "\n",
    "# for line in students.values.tolist():\n",
    "#     [id, name, surname, gpa, major] = line\n",
    "#     gpas[id] = int(gpa * 10)\n",
    "#     majors[id] = 0 if major == \"CS\" else 1\n",
    "\n",
    "studentsSortedByGPA = sorted(students.values.tolist(),\n",
    "                                key = lambda line: line[3])\n",
    "\n",
    "for index, line in enumerate(studentsSortedByGPA):\n",
    "    [id, name, surname, gpa, major] = line\n",
    "    gpas[id] = int(gpa * 10)\n",
    "    majors[id] = 0 if major == \"CS\" else 1\n",
    "    pots[id] = 1 + math.floor(index / 4)\n",
    "    names[id] = f'[{id}] {name} {surname} ({major} - {gpa} - pot {pots[id]})'\n",
    "\n",
    "nbStudents = len(students)\n"
   ]
  },
  {
   "attachments": {},
   "cell_type": "markdown",
   "metadata": {},
   "source": [
    "Installing and loading the Conjure notebook extension"
   ]
  },
  {
   "cell_type": "code",
   "execution_count": 6,
   "metadata": {
    "execution": {
     "iopub.execute_input": "2025-05-31T22:04:56.074256Z",
     "iopub.status.busy": "2025-05-31T22:04:56.073969Z",
     "iopub.status.idle": "2025-05-31T22:05:03.628609Z",
     "shell.execute_reply": "2025-05-31T22:05:03.627116Z",
     "shell.execute_reply.started": "2025-05-31T22:04:56.074227Z"
    }
   },
   "outputs": [
    {
     "name": "stdout",
     "output_type": "stream",
     "text": [
      "Note: you may need to restart the kernel to use updated packages.\n"
     ]
    },
    {
     "data": {
      "application/javascript": [
       "\"use strict\";\n",
       "\n",
       "CodeMirror.defineMode(\"text/conjure\", function (config) {\n",
       "\n",
       "    var isOperatorChar = /[+\\-*=<>%^\\/]/;\n",
       "\n",
       "    var keywords = {\n",
       "        \"forall\": true,\n",
       "        \"allDifferent\": true,\n",
       "        \"allDiff\": true,\n",
       "        \"alldifferent_except\": true,\n",
       "        \"dim\": true,\n",
       "        \"toSet\": true,\n",
       "        \"toMSet\": true,\n",
       "        \"toRelation\": true,\n",
       "        \"maximising\": true,\n",
       "        \"minimising\": true,\n",
       "        \"forAll\": true,\n",
       "        \"exists\": true,\n",
       "        \"toInt\": true,\n",
       "        \"sum\": true,\n",
       "        \"be\": true,\n",
       "        \"bijective\": true,\n",
       "        \"bool\": true,\n",
       "        \"by\": true,\n",
       "        \"complete\": true,\n",
       "        \"defined\": true,\n",
       "        \"domain\": true,\n",
       "        \"in\": true,\n",
       "        \"or\": true,\n",
       "        \"and\": true,\n",
       "        \"false\": true,\n",
       "        \"find\": true,\n",
       "        \"from\": true,\n",
       "        \"function\": true,\n",
       "        \"given\": true,\n",
       "        \"image\": true,\n",
       "        \"indexed\": true,\n",
       "        \"injective\": true,\n",
       "        \"int\": true,\n",
       "        \"intersect\": true,\n",
       "        \"freq\": true,\n",
       "        \"lambda\": true,\n",
       "        \"language\": true,\n",
       "        \"letting\": true,\n",
       "        \"matrix\": true,\n",
       "        \"maxNumParts\": true,\n",
       "        \"maxOccur\": true,\n",
       "        \"maxPartSize\": true,\n",
       "        \"maxSize\": true,\n",
       "        \"minNumParts\": true,\n",
       "        \"minOccur\": true,\n",
       "        \"minPartSize\": true,\n",
       "        \"minSize\": true,\n",
       "        \"mset\": true,\n",
       "        \"numParts\": true,\n",
       "        \"of\": true,\n",
       "        \"partial\": true,\n",
       "        \"partition\": true,\n",
       "        \"partSize\": true,\n",
       "        \"preImage\": true,\n",
       "        \"quantifier\": true,\n",
       "        \"range\": true,\n",
       "        \"regular\": true,\n",
       "        \"relation\": true,\n",
       "        \"representation\": true,\n",
       "        \"set\": true,\n",
       "        \"size\": true,\n",
       "        \"subset\": true,\n",
       "        \"subsetEq\": true,\n",
       "        \"such\": true,\n",
       "        \"supset\": true,\n",
       "        \"supsetEq\": true,\n",
       "        \"surjective\": true,\n",
       "        \"that\": true,\n",
       "        \"together\": true,\n",
       "        \"enum\": true,\n",
       "        \"total\": true,\n",
       "        \"true\": true,\n",
       "        \"new\": true,\n",
       "        \"type\": true,\n",
       "        \"tuple\": true,\n",
       "        \"union\": true,\n",
       "        \"where\": true,\n",
       "        \"branching\": true,\n",
       "        \"on\": true\n",
       "    };  \n",
       "    var punc = \":;,.(){}[]\";\n",
       "\n",
       "    function tokenBase(stream, state) {\n",
       "        var ch = stream.next();\n",
       "        if (ch == '\"') {\n",
       "            state.tokenize.push(tokenString);\n",
       "            return tokenString(stream, state);\n",
       "        }\n",
       "        if (/[\\d\\.]/.test(ch)) {\n",
       "            if (ch == \".\") {\n",
       "                stream.match(/^[0-9]+([eE][\\-+]?[0-9]+)?/);\n",
       "            } else if (ch == \"0\") {\n",
       "                stream.match(/^[xX][0-9a-fA-F]+/) || stream.match(/^0[0-7]+/);\n",
       "            } else {\n",
       "                stream.match(/^[0-9]*\\.?[0-9]*([eE][\\-+]?[0-9]+)?/);\n",
       "            }\n",
       "            return \"number\";\n",
       "        }\n",
       "        if (ch == \"/\") {\n",
       "            if (stream.eat(\"*\")) {\n",
       "                state.tokenize.push(tokenComment);\n",
       "                return tokenComment(stream, state);\n",
       "            }\n",
       "        }\n",
       "        if (ch == \"$\") {\n",
       "            stream.skipToEnd();\n",
       "            return \"comment\";\n",
       "        }\n",
       "        if (isOperatorChar.test(ch)) {\n",
       "            stream.eatWhile(isOperatorChar);\n",
       "            return \"operator\";\n",
       "        }\n",
       "        if (punc.indexOf(ch) > -1) {\n",
       "            return \"punctuation\";\n",
       "        }\n",
       "        stream.eatWhile(/[\\w\\$_\\xa1-\\uffff]/);\n",
       "        var cur = stream.current();\n",
       "        \n",
       "        if (keywords.propertyIsEnumerable(cur)) {\n",
       "            return \"keyword\";\n",
       "        }\n",
       "        return \"variable\";\n",
       "    }\n",
       "\n",
       "    function tokenComment(stream, state) {\n",
       "        var maybeEnd = false, ch;\n",
       "        while (ch = stream.next()) {\n",
       "            if (ch == \"/\" && maybeEnd) {\n",
       "                state.tokenize.pop();\n",
       "                break;\n",
       "            }\n",
       "            maybeEnd = (ch == \"*\");\n",
       "        }\n",
       "        return \"comment\";\n",
       "    }\n",
       "\n",
       "    function tokenUntilClosingParen() {\n",
       "        var depth = 0;\n",
       "        return function (stream, state, prev) {\n",
       "            var inner = tokenBase(stream, state, prev);\n",
       "            console.log(\"untilClosing\", inner, stream.current());\n",
       "            if (inner == \"punctuation\") {\n",
       "                if (stream.current() == \"(\") {\n",
       "                    ++depth;\n",
       "                } else if (stream.current() == \")\") {\n",
       "                    if (depth == 0) {\n",
       "                        stream.backUp(1)\n",
       "                        state.tokenize.pop()\n",
       "                        return state.tokenize[state.tokenize.length - 1](stream, state)\n",
       "                    } else {\n",
       "                        --depth;\n",
       "                    }\n",
       "                }\n",
       "            }\n",
       "            return inner;\n",
       "        }\n",
       "    }\n",
       "\n",
       "    function tokenString(stream, state) {\n",
       "        var escaped = false, next, end = false;\n",
       "        while ((next = stream.next()) != null) {\n",
       "            if (next == '(' && escaped) {\n",
       "                state.tokenize.push(tokenUntilClosingParen());\n",
       "                return \"string\";\n",
       "            }\n",
       "            if (next == '\"' && !escaped) { end = true; break; }\n",
       "            escaped = !escaped && next == \"\\\\\";\n",
       "        }\n",
       "        if (end || !escaped)\n",
       "            state.tokenize.pop();\n",
       "        return \"string\";\n",
       "    }\n",
       "\n",
       "    return {\n",
       "        startState: function (basecolumn) {\n",
       "            return {\n",
       "                tokenize: []\n",
       "            };\n",
       "        },\n",
       "\n",
       "        token: function (stream, state) {\n",
       "            if (stream.eatSpace()) return null;\n",
       "            var style = (state.tokenize[state.tokenize.length - 1] || tokenBase)(stream, state);\n",
       "            console.log(\"token\", style);\n",
       "            return style;\n",
       "        },\n",
       "\n",
       "        blockCommentStart: \"/*\",\n",
       "        blockCommentEnd: \"*/\",\n",
       "        lineComment: \"$\"\n",
       "    };\n",
       "});\n",
       "\n",
       "\n",
       "CodeMirror.defineMIME(\"text/conjure\", \"text/conjure\");\n",
       "\n",
       "require(['notebook/js/codecell'], function (codecell) {\n",
       "    codecell.CodeCell.options_default.highlight_modes['magic_text/conjure'] = { 'reg': [/%?%conjure/] };\n",
       "    Jupyter.notebook.events.one('kernel_ready.Kernel', function () {\n",
       "        Jupyter.notebook.get_cells().map(function (cell) {\n",
       "            if (cell.cell_type == 'code') { cell.auto_highlight(); }\n",
       "        });\n",
       "    });\n",
       "});\n",
       "\n"
      ],
      "text/plain": [
       "<IPython.core.display.Javascript object>"
      ]
     },
     "metadata": {},
     "output_type": "display_data"
    },
    {
     "name": "stdout",
     "output_type": "stream",
     "text": [
      "Conjure extension is loaded.\n",
      "For usage help run: %conjure_help\n"
     ]
    }
   ],
   "source": [
    "%pip install --quiet git+https://github.com/conjure-cp/conjure-notebook.git@v0.0.8\n",
    "%load_ext conjure"
   ]
  },
  {
   "attachments": {},
   "cell_type": "markdown",
   "metadata": {},
   "source": [
    "This extension contains a few _magic_ commands, for example `%%conjure`. Also see `%conjure_help`.\n"
   ]
  },
  {
   "attachments": {},
   "cell_type": "markdown",
   "metadata": {},
   "source": [
    "These are the parameters of our model."
   ]
  },
  {
   "cell_type": "code",
   "execution_count": 7,
   "metadata": {
    "execution": {
     "iopub.execute_input": "2025-05-31T22:05:03.631260Z",
     "iopub.status.busy": "2025-05-31T22:05:03.630719Z",
     "iopub.status.idle": "2025-05-31T22:05:05.171792Z",
     "shell.execute_reply": "2025-05-31T22:05:05.171088Z",
     "shell.execute_reply.started": "2025-05-31T22:05:03.631205Z"
    }
   },
   "outputs": [
    {
     "data": {
      "text/markdown": [
       "```json\n",
       "{}\n",
       "```"
      ],
      "text/plain": [
       "<IPython.core.display.Markdown object>"
      ]
     },
     "metadata": {},
     "output_type": "display_data"
    }
   ],
   "source": [
    "%%conjure\n",
    "\n",
    "given nbStudents : int\n",
    "given gpas : function (total) int(1..nbStudents) --> int\n",
    "given majors : function (total) int(1..nbStudents) --> int(0,1)\n",
    "given pots : function (total) int(1..nbStudents) --> int(1..6)\n"
   ]
  },
  {
   "attachments": {},
   "cell_type": "markdown",
   "metadata": {},
   "source": [
    "And we are trying to find a partitioning of the students.\n",
    "\n",
    "A partition is a _mutually exclusive_ and _collectively exhaustive_ collection of parts.\n",
    "\n",
    "Here, we say each part will contain 6 items it it. We know there are 6 pots in this problem. We could have easily parameterised the model over the number of pots, too.\n",
    "\n",
    "This implies that there will be 4 parts. We can provide this information as well, using `numParts 4` as a domain attribute. We will leave this out for now."
   ]
  },
  {
   "cell_type": "code",
   "execution_count": 8,
   "metadata": {
    "execution": {
     "iopub.execute_input": "2025-05-31T22:05:05.173191Z",
     "iopub.status.busy": "2025-05-31T22:05:05.172708Z",
     "iopub.status.idle": "2025-05-31T22:05:07.997906Z",
     "shell.execute_reply": "2025-05-31T22:05:07.997206Z",
     "shell.execute_reply.started": "2025-05-31T22:05:05.173161Z"
    }
   },
   "outputs": [
    {
     "data": {
      "text/markdown": [
       "```json\n",
       "{\"groups\": [[1, 2, 3, 4, 5, 6], [7, 8, 9, 10, 11, 12], [13, 14, 15, 16, 17, 18], [19, 20, 21, 22, 23, 24]]}\n",
       "```"
      ],
      "text/plain": [
       "<IPython.core.display.Markdown object>"
      ]
     },
     "metadata": {},
     "output_type": "display_data"
    }
   ],
   "source": [
    "%%conjure+\n",
    "\n",
    "find groups : partition (partSize 6) from int(1..nbStudents)\n"
   ]
  },
  {
   "attachments": {},
   "cell_type": "markdown",
   "metadata": {},
   "source": [
    "We have a solution now!\n",
    "\n",
    "It is a solution to an incomplete model however. It doesn't enfore any of our constraints yet. Let's format it sligtly better using Python."
   ]
  },
  {
   "cell_type": "code",
   "execution_count": 9,
   "metadata": {
    "execution": {
     "iopub.execute_input": "2025-05-31T22:05:07.998995Z",
     "iopub.status.busy": "2025-05-31T22:05:07.998765Z",
     "iopub.status.idle": "2025-05-31T22:05:08.003320Z",
     "shell.execute_reply": "2025-05-31T22:05:08.002689Z",
     "shell.execute_reply.started": "2025-05-31T22:05:07.998971Z"
    }
   },
   "outputs": [
    {
     "name": "stdout",
     "output_type": "stream",
     "text": [
      "# Group 1\n",
      "[1] Emma Johnson (CS - 3.8 - pot 5)\n",
      "[2] Liam Smith (CS - 3.5 - pot 3)\n",
      "[3] Olivia Williams (CS - 3.9 - pot 6)\n",
      "[4] Noah Jones (Maths - 3.7 - pot 4)\n",
      "[5] Ava Brown (CS - 3.2 - pot 2)\n",
      "[6] Isabella Davis (CS - 3.6 - pot 4)\n",
      "\n",
      "# Group 2\n",
      "[7] Sophia Miller (CS - 2.9 - pot 1)\n",
      "[8] Mia Wilson (Maths - 3.3 - pot 3)\n",
      "[9] Harper Moore (CS - 3.1 - pot 2)\n",
      "[10] Benjamin Taylor (Maths - 3.8 - pot 5)\n",
      "[11] Elijah Anderson (CS - 3.9 - pot 6)\n",
      "[12] Oliver Thomas (Maths - 2.7 - pot 1)\n",
      "\n",
      "# Group 3\n",
      "[13] Mei Ling Chen (CS - 3.7 - pot 5)\n",
      "[14] Aarav Patel (CS - 3.6 - pot 4)\n",
      "[15] Layla Rahman (CS - 3.2 - pot 2)\n",
      "[16] Michael Martin (Maths - 2.9 - pot 2)\n",
      "[17] Emily Thompson (CS - 3.3 - pot 3)\n",
      "[18] Zara Abbas (CS - 2.6 - pot 1)\n",
      "\n",
      "# Group 4\n",
      "[19] Alexander Martinez (CS - 3.8 - pot 6)\n",
      "[20] Aarav Sharma (Maths - 3.9 - pot 6)\n",
      "[21] Daniel Clark (CS - 2.8 - pot 1)\n",
      "[22] Jing Wang (CS - 3.7 - pot 5)\n",
      "[23] Fatima Ali (Maths - 3.6 - pot 4)\n",
      "[24] Ahmed Khalid (CS - 3.2 - pot 3)\n",
      "\n"
     ]
    }
   ],
   "source": [
    "for n, group in enumerate(groups):\n",
    "    print(f'# Group {n+1}')\n",
    "    for s in group:\n",
    "        print(names[s])\n",
    "    print()"
   ]
  },
  {
   "attachments": {},
   "cell_type": "markdown",
   "metadata": {},
   "source": [
    "This is a useful bit of functionality, let's define a Python function that can print the solution this way."
   ]
  },
  {
   "cell_type": "code",
   "execution_count": 10,
   "metadata": {
    "execution": {
     "iopub.execute_input": "2025-05-31T22:05:08.004317Z",
     "iopub.status.busy": "2025-05-31T22:05:08.004051Z",
     "iopub.status.idle": "2025-05-31T22:05:08.020904Z",
     "shell.execute_reply": "2025-05-31T22:05:08.020283Z",
     "shell.execute_reply.started": "2025-05-31T22:05:08.004295Z"
    }
   },
   "outputs": [],
   "source": [
    "def printSolution():\n",
    "    # this is not best practice in general Python programming\n",
    "    # groups is a global variable\n",
    "    # however, it's probably fine in a notebook environment\n",
    "    for n, group in enumerate(groups):\n",
    "        print(f'# Group {n+1}')\n",
    "        for s in group:\n",
    "            print(names[s])\n",
    "        print()"
   ]
  },
  {
   "attachments": {},
   "cell_type": "markdown",
   "metadata": {},
   "source": [
    "OK, let's focus on the intermediate solution again. In group 1, we have two people from pot 4. This is not good.\n",
    "\n",
    "Let's enforce the condition that there has to be a member from each pot in every part of the partition."
   ]
  },
  {
   "cell_type": "code",
   "execution_count": 11,
   "metadata": {
    "execution": {
     "iopub.execute_input": "2025-05-31T22:05:08.021940Z",
     "iopub.status.busy": "2025-05-31T22:05:08.021671Z",
     "iopub.status.idle": "2025-05-31T22:05:11.818384Z",
     "shell.execute_reply": "2025-05-31T22:05:11.817427Z",
     "shell.execute_reply.started": "2025-05-31T22:05:08.021919Z"
    }
   },
   "outputs": [
    {
     "data": {
      "text/markdown": [
       "```json\n",
       "{\"groups\": [[1, 2, 3, 4, 5, 7], [6, 8, 9, 10, 11, 12], [13, 14, 15, 17, 18, 19], [16, 20, 21, 22, 23, 24]]}\n",
       "```"
      ],
      "text/plain": [
       "<IPython.core.display.Markdown object>"
      ]
     },
     "metadata": {},
     "output_type": "display_data"
    }
   ],
   "source": [
    "%%conjure+\n",
    "\n",
    "$ one member from each pot\n",
    "such that\n",
    "    forAll group in groups .\n",
    "        forAll pot : int(1..6) .\n",
    "            exists s in group .\n",
    "                pots(s) = pot\n"
   ]
  },
  {
   "cell_type": "code",
   "execution_count": 12,
   "metadata": {
    "execution": {
     "iopub.execute_input": "2025-05-31T22:05:11.819693Z",
     "iopub.status.busy": "2025-05-31T22:05:11.819451Z",
     "iopub.status.idle": "2025-05-31T22:05:11.824681Z",
     "shell.execute_reply": "2025-05-31T22:05:11.823684Z",
     "shell.execute_reply.started": "2025-05-31T22:05:11.819667Z"
    }
   },
   "outputs": [
    {
     "name": "stdout",
     "output_type": "stream",
     "text": [
      "# Group 1\n",
      "[1] Emma Johnson (CS - 3.8 - pot 5)\n",
      "[2] Liam Smith (CS - 3.5 - pot 3)\n",
      "[3] Olivia Williams (CS - 3.9 - pot 6)\n",
      "[4] Noah Jones (Maths - 3.7 - pot 4)\n",
      "[5] Ava Brown (CS - 3.2 - pot 2)\n",
      "[7] Sophia Miller (CS - 2.9 - pot 1)\n",
      "\n",
      "# Group 2\n",
      "[6] Isabella Davis (CS - 3.6 - pot 4)\n",
      "[8] Mia Wilson (Maths - 3.3 - pot 3)\n",
      "[9] Harper Moore (CS - 3.1 - pot 2)\n",
      "[10] Benjamin Taylor (Maths - 3.8 - pot 5)\n",
      "[11] Elijah Anderson (CS - 3.9 - pot 6)\n",
      "[12] Oliver Thomas (Maths - 2.7 - pot 1)\n",
      "\n",
      "# Group 3\n",
      "[13] Mei Ling Chen (CS - 3.7 - pot 5)\n",
      "[14] Aarav Patel (CS - 3.6 - pot 4)\n",
      "[15] Layla Rahman (CS - 3.2 - pot 2)\n",
      "[17] Emily Thompson (CS - 3.3 - pot 3)\n",
      "[18] Zara Abbas (CS - 2.6 - pot 1)\n",
      "[19] Alexander Martinez (CS - 3.8 - pot 6)\n",
      "\n",
      "# Group 4\n",
      "[16] Michael Martin (Maths - 2.9 - pot 2)\n",
      "[20] Aarav Sharma (Maths - 3.9 - pot 6)\n",
      "[21] Daniel Clark (CS - 2.8 - pot 1)\n",
      "[22] Jing Wang (CS - 3.7 - pot 5)\n",
      "[23] Fatima Ali (Maths - 3.6 - pot 4)\n",
      "[24] Ahmed Khalid (CS - 3.2 - pot 3)\n",
      "\n"
     ]
    }
   ],
   "source": [
    "printSolution()"
   ]
  },
  {
   "attachments": {},
   "cell_type": "markdown",
   "metadata": {},
   "source": [
    "Better.\n",
    "\n",
    "Now each group has exactly one member from each pot.\n",
    "\n",
    "But group 1 has a single Maths major in it. Noah might feel lonely, let's enforce the condition that there cannot be a single person from any particular major.\n",
    "\n",
    "This means a group can contain all CS or all Maths students, but if there is a mixture there will be at least 2 students from each major."
   ]
  },
  {
   "cell_type": "code",
   "execution_count": 13,
   "metadata": {
    "execution": {
     "iopub.execute_input": "2025-05-31T22:05:11.825820Z",
     "iopub.status.busy": "2025-05-31T22:05:11.825590Z",
     "iopub.status.idle": "2025-05-31T22:05:16.543543Z",
     "shell.execute_reply": "2025-05-31T22:05:16.542806Z",
     "shell.execute_reply.started": "2025-05-31T22:05:11.825797Z"
    }
   },
   "outputs": [
    {
     "data": {
      "text/markdown": [
       "```json\n",
       "{\"groups\": [[1, 2, 3, 4, 5, 12], [6, 7, 8, 9, 10, 11], [13, 14, 15, 17, 18, 19], [16, 20, 21, 22, 23, 24]]}\n",
       "```"
      ],
      "text/plain": [
       "<IPython.core.display.Markdown object>"
      ]
     },
     "metadata": {},
     "output_type": "display_data"
    }
   ],
   "source": [
    "%%conjure+\n",
    "\n",
    "$ no single major\n",
    "such that\n",
    "    forAll group in groups .\n",
    "        forAll major : int(0,1) .\n",
    "            sum([ toInt(majors(s) = major) | s <- group ]) != 1"
   ]
  },
  {
   "cell_type": "code",
   "execution_count": 14,
   "metadata": {
    "execution": {
     "iopub.execute_input": "2025-05-31T22:05:16.544592Z",
     "iopub.status.busy": "2025-05-31T22:05:16.544372Z",
     "iopub.status.idle": "2025-05-31T22:05:16.548945Z",
     "shell.execute_reply": "2025-05-31T22:05:16.548275Z",
     "shell.execute_reply.started": "2025-05-31T22:05:16.544569Z"
    }
   },
   "outputs": [
    {
     "name": "stdout",
     "output_type": "stream",
     "text": [
      "# Group 1\n",
      "[1] Emma Johnson (CS - 3.8 - pot 5)\n",
      "[2] Liam Smith (CS - 3.5 - pot 3)\n",
      "[3] Olivia Williams (CS - 3.9 - pot 6)\n",
      "[4] Noah Jones (Maths - 3.7 - pot 4)\n",
      "[5] Ava Brown (CS - 3.2 - pot 2)\n",
      "[12] Oliver Thomas (Maths - 2.7 - pot 1)\n",
      "\n",
      "# Group 2\n",
      "[6] Isabella Davis (CS - 3.6 - pot 4)\n",
      "[7] Sophia Miller (CS - 2.9 - pot 1)\n",
      "[8] Mia Wilson (Maths - 3.3 - pot 3)\n",
      "[9] Harper Moore (CS - 3.1 - pot 2)\n",
      "[10] Benjamin Taylor (Maths - 3.8 - pot 5)\n",
      "[11] Elijah Anderson (CS - 3.9 - pot 6)\n",
      "\n",
      "# Group 3\n",
      "[13] Mei Ling Chen (CS - 3.7 - pot 5)\n",
      "[14] Aarav Patel (CS - 3.6 - pot 4)\n",
      "[15] Layla Rahman (CS - 3.2 - pot 2)\n",
      "[17] Emily Thompson (CS - 3.3 - pot 3)\n",
      "[18] Zara Abbas (CS - 2.6 - pot 1)\n",
      "[19] Alexander Martinez (CS - 3.8 - pot 6)\n",
      "\n",
      "# Group 4\n",
      "[16] Michael Martin (Maths - 2.9 - pot 2)\n",
      "[20] Aarav Sharma (Maths - 3.9 - pot 6)\n",
      "[21] Daniel Clark (CS - 2.8 - pot 1)\n",
      "[22] Jing Wang (CS - 3.7 - pot 5)\n",
      "[23] Fatima Ali (Maths - 3.6 - pot 4)\n",
      "[24] Ahmed Khalid (CS - 3.2 - pot 3)\n",
      "\n"
     ]
    }
   ],
   "source": [
    "printSolution()"
   ]
  },
  {
   "attachments": {},
   "cell_type": "markdown",
   "metadata": {},
   "source": [
    "We have a list of people who cannot be in the same group for some reason. Let's remember who these people were."
   ]
  },
  {
   "cell_type": "code",
   "execution_count": 15,
   "metadata": {
    "execution": {
     "iopub.execute_input": "2025-05-31T22:05:16.549871Z",
     "iopub.status.busy": "2025-05-31T22:05:16.549663Z",
     "iopub.status.idle": "2025-05-31T22:05:16.566546Z",
     "shell.execute_reply": "2025-05-31T22:05:16.565900Z",
     "shell.execute_reply.started": "2025-05-31T22:05:16.549850Z"
    }
   },
   "outputs": [
    {
     "data": {
      "text/plain": [
       "[[1, 3], [1, 4], [7, 13], [8, 17], [3, 21]]"
      ]
     },
     "execution_count": 15,
     "metadata": {},
     "output_type": "execute_result"
    }
   ],
   "source": [
    "forbiddens = forbiddens.values.tolist()\n",
    "forbiddens"
   ]
  },
  {
   "attachments": {},
   "cell_type": "markdown",
   "metadata": {},
   "source": [
    "Not good. 1 and 3 (Emma and Olivia) are not supposed to be in the same group, but they are.\n",
    "\n",
    "Let's add another constraint. Pairs of people listed together in the forbidden list must be in different parts of the partition.\n",
    "\n",
    "You can learn more about the apart constraint expression later. For now, the short version is that it takes two arguments, a set of values and a partition. Items in the set of values must not be together in the same part. Exactly what we need."
   ]
  },
  {
   "cell_type": "code",
   "execution_count": 16,
   "metadata": {
    "execution": {
     "iopub.execute_input": "2025-05-31T22:05:16.567498Z",
     "iopub.status.busy": "2025-05-31T22:05:16.567289Z",
     "iopub.status.idle": "2025-05-31T22:05:21.273599Z",
     "shell.execute_reply": "2025-05-31T22:05:21.272980Z",
     "shell.execute_reply.started": "2025-05-31T22:05:16.567477Z"
    }
   },
   "outputs": [
    {
     "data": {
      "text/markdown": [
       "```json\n",
       "{\"groups\": [[1, 2, 5, 6, 7, 11], [3, 4, 8, 9, 10, 12], [13, 14, 15, 17, 18, 19], [16, 20, 21, 22, 23, 24]]}\n",
       "```"
      ],
      "text/plain": [
       "<IPython.core.display.Markdown object>"
      ]
     },
     "metadata": {},
     "output_type": "display_data"
    }
   ],
   "source": [
    "%%conjure+\n",
    "\n",
    "given forbiddens : set of (int, int)\n",
    "such that\n",
    "    forAll (a,b) in forbiddens .\n",
    "        apart({a,b}, groups)"
   ]
  },
  {
   "cell_type": "code",
   "execution_count": 17,
   "metadata": {
    "execution": {
     "iopub.execute_input": "2025-05-31T22:05:21.276012Z",
     "iopub.status.busy": "2025-05-31T22:05:21.275791Z",
     "iopub.status.idle": "2025-05-31T22:05:21.279923Z",
     "shell.execute_reply": "2025-05-31T22:05:21.279269Z",
     "shell.execute_reply.started": "2025-05-31T22:05:21.275992Z"
    }
   },
   "outputs": [
    {
     "name": "stdout",
     "output_type": "stream",
     "text": [
      "# Group 1\n",
      "[1] Emma Johnson (CS - 3.8 - pot 5)\n",
      "[2] Liam Smith (CS - 3.5 - pot 3)\n",
      "[5] Ava Brown (CS - 3.2 - pot 2)\n",
      "[6] Isabella Davis (CS - 3.6 - pot 4)\n",
      "[7] Sophia Miller (CS - 2.9 - pot 1)\n",
      "[11] Elijah Anderson (CS - 3.9 - pot 6)\n",
      "\n",
      "# Group 2\n",
      "[3] Olivia Williams (CS - 3.9 - pot 6)\n",
      "[4] Noah Jones (Maths - 3.7 - pot 4)\n",
      "[8] Mia Wilson (Maths - 3.3 - pot 3)\n",
      "[9] Harper Moore (CS - 3.1 - pot 2)\n",
      "[10] Benjamin Taylor (Maths - 3.8 - pot 5)\n",
      "[12] Oliver Thomas (Maths - 2.7 - pot 1)\n",
      "\n",
      "# Group 3\n",
      "[13] Mei Ling Chen (CS - 3.7 - pot 5)\n",
      "[14] Aarav Patel (CS - 3.6 - pot 4)\n",
      "[15] Layla Rahman (CS - 3.2 - pot 2)\n",
      "[17] Emily Thompson (CS - 3.3 - pot 3)\n",
      "[18] Zara Abbas (CS - 2.6 - pot 1)\n",
      "[19] Alexander Martinez (CS - 3.8 - pot 6)\n",
      "\n",
      "# Group 4\n",
      "[16] Michael Martin (Maths - 2.9 - pot 2)\n",
      "[20] Aarav Sharma (Maths - 3.9 - pot 6)\n",
      "[21] Daniel Clark (CS - 2.8 - pot 1)\n",
      "[22] Jing Wang (CS - 3.7 - pot 5)\n",
      "[23] Fatima Ali (Maths - 3.6 - pot 4)\n",
      "[24] Ahmed Khalid (CS - 3.2 - pot 3)\n",
      "\n"
     ]
    }
   ],
   "source": [
    "printSolution()"
   ]
  },
  {
   "attachments": {},
   "cell_type": "markdown",
   "metadata": {},
   "source": [
    "Looks good!\n",
    "\n",
    "This is not a unique solution.\n",
    "\n",
    "More constraints can be added.\n",
    "\n",
    "An objective can be added (for example one to do with average gpa of a group?).\n",
    "\n",
    "Or more solutions can be enumerated.\n",
    "\n",
    "Stay tuned..."
   ]
  }
 ],
 "metadata": {
  "kernelspec": {
   "display_name": "Python 3 (ipykernel)",
   "language": "python",
   "name": "python3"
  },
  "language_info": {
   "codemirror_mode": {
    "name": "ipython",
    "version": 3
   },
   "file_extension": ".py",
   "mimetype": "text/x-python",
   "name": "python",
   "nbconvert_exporter": "python",
   "pygments_lexer": "ipython3",
   "version": "3.11.9"
  }
 },
 "nbformat": 4,
 "nbformat_minor": 4
}
